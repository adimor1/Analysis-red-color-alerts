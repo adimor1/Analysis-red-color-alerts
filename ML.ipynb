{
 "cells": [
  {
   "cell_type": "code",
   "execution_count": 1,
   "metadata": {},
   "outputs": [],
   "source": [
    "import pandas as pd\n",
    "import sklearn\n",
    "from sklearn.linear_model import LinearRegression\n",
    "from sklearn.preprocessing import MinMaxScaler, StandardScaler, normalize\n",
    "from sklearn.model_selection import train_test_split\n",
    "from sklearn.metrics import r2_score, f1_score"
   ]
  },
  {
   "cell_type": "code",
   "execution_count": 2,
   "metadata": {},
   "outputs": [
    {
     "name": "stdout",
     "output_type": "stream",
     "text": [
      "     distances\n",
      "28         3.5\n",
      "281        3.6\n",
      "404        3.7\n",
      "242        4.0\n",
      "292        4.3\n",
      "..         ...\n",
      "26       155.9\n",
      "201      158.8\n",
      "313      160.2\n",
      "322      161.8\n",
      "247      211.9\n",
      "\n",
      "[436 rows x 1 columns]\n",
      "28      61\n",
      "281    178\n",
      "404     90\n",
      "242     71\n",
      "292    167\n",
      "      ... \n",
      "26       1\n",
      "201      2\n",
      "313      2\n",
      "322      3\n",
      "247      1\n",
      "Name: size, Length: 436, dtype: int64\n",
      "33.982125155327594\n",
      "[-0.3361092]\n",
      "Please enter distance value: 50\n",
      "Closest number of alarms prediction: \n",
      "[17.17666539]\n"
     ]
    }
   ],
   "source": [
    "#### Linear Regression by distance\n",
    "\n",
    "df = pd.DataFrame(pd.read_excel(\"ML.xlsx\", index_col=0))\n",
    "X = df[df.columns[(df.columns == 'distances')]]\n",
    "y = df['size']\n",
    "print(X)\n",
    "print(y)\n",
    "X_train, X_test, y_train, y_test = train_test_split(X, y, test_size=0.35, random_state=40)\n",
    "model = sklearn.linear_model.LinearRegression().fit(X_train, y_train)\n",
    "\n",
    "print(model.intercept_)\n",
    "print(model.coef_)\n",
    "\n",
    "distance = float(input(\"Please enter distance value: \"))\n",
    "\n",
    "print (\"Closest number of alarms prediction: \")\n",
    "number = model.predict([[distance]])\n",
    "print (number)"
   ]
  }
 ],
 "metadata": {
  "kernelspec": {
   "display_name": "Python 3",
   "language": "python",
   "name": "python3"
  },
  "language_info": {
   "codemirror_mode": {
    "name": "ipython",
    "version": 3
   },
   "file_extension": ".py",
   "mimetype": "text/x-python",
   "name": "python",
   "nbconvert_exporter": "python",
   "pygments_lexer": "ipython3",
   "version": "3.8.5"
  }
 },
 "nbformat": 4,
 "nbformat_minor": 4
}
